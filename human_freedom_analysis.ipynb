{
 "cells": [
  {
   "cell_type": "code",
   "execution_count": 1,
   "id": "9ab43455-6095-4d7e-8bd0-7aaeadb14405",
   "metadata": {
    "created-datetime": "2022-08-09T00:57:01.398Z",
    "deps": [],
    "executions": 1,
    "id": "9ab43455-6095-4d7e-8bd0-7aaeadb14405",
    "keystrokes": 22,
    "modified-datetime": "2022-08-09T00:57:10.754Z",
    "tags": []
   },
   "outputs": [
    {
     "name": "stdout",
     "output_type": "stream",
     "text": [
      "hello world\n"
     ]
    }
   ],
   "source": [
    "print(\"hello world\")"
   ]
  },
  {
   "cell_type": "code",
   "execution_count": 2,
   "id": "ba4e7348-299b-4b52-a3c0-156852dd617e",
   "metadata": {
    "created-datetime": "2022-08-09T01:00:00.828Z",
    "deps": [],
    "executions": 1,
    "id": "ba4e7348-299b-4b52-a3c0-156852dd617e",
    "keystrokes": 16,
    "modified-datetime": "2022-08-09T01:00:37.892Z",
    "tags": []
   },
   "outputs": [
    {
     "name": "stdout",
     "output_type": "stream",
     "text": [
      "goodbye\n"
     ]
    }
   ],
   "source": [
    "print(\"goodbye\")"
   ]
  }
 ],
 "metadata": {
  "kernelspec": {
   "display_name": "Python 3 (ipykernel)",
   "language": "python",
   "name": "python3"
  },
  "language_info": {
   "codemirror_mode": {
    "name": "ipython",
    "version": 3
   },
   "file_extension": ".py",
   "mimetype": "text/x-python",
   "name": "python",
   "nbconvert_exporter": "python",
   "pygments_lexer": "ipython3",
   "version": "3.10.5"
  }
 },
 "nbformat": 4,
 "nbformat_minor": 5
}
