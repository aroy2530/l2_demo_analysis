{
 "cells": [
  {
   "cell_type": "markdown",
   "id": "cabfd1b6-bc7b-45cc-bb47-d273fcf0c32a",
   "metadata": {
    "created-datetime": "2022-08-09T00:57:01.398Z",
    "deps": [],
    "executions": 3,
    "id": "9ab43455-6095-4d7e-8bd0-7aaeadb14405",
    "keystrokes": 23,
    "modified-datetime": "2022-08-09T04:31:47.029Z",
    "tags": []
   },
   "source": [
    "## Analysis of the Human Freedom Index"
   ]
  },
  {
   "cell_type": "markdown",
   "id": "cd73cfda-7b45-4c75-beb3-f1bf91cf5ff2",
   "metadata": {
    "created-datetime": "2022-08-09T04:33:01.696Z",
    "id": "2e98de83-fc23-43cc-9f6f-da40df50bdf7"
   },
   "source": [
    "The Human Freedom Index provides a way to understand the relative freedom of countries across the world.\n",
    "\n",
    "add link, source, objective"
   ]
  },
  {
   "cell_type": "code",
   "execution_count": 3,
   "id": "ba4e7348-299b-4b52-a3c0-156852dd617e",
   "metadata": {
    "created-datetime": "2022-08-09T01:00:00.828Z",
    "deps": [],
    "executions": 2,
    "id": "ba4e7348-299b-4b52-a3c0-156852dd617e",
    "keystrokes": 55,
    "modified-datetime": "2022-08-09T04:32:48.658Z",
    "tags": []
   },
   "outputs": [],
   "source": [
    "import pandas as pd\n",
    "import numpy as np"
   ]
  },
  {
   "cell_type": "code",
   "execution_count": null,
   "id": "af49f354-99c7-4303-b3c4-efa08858b5a3",
   "metadata": {
    "created-datetime": "2022-08-09T04:32:51.412Z",
    "deps": [],
    "id": "af49f354-99c7-4303-b3c4-efa08858b5a3",
    "keystrokes": 112,
    "modified-datetime": "2022-08-09T04:34:19.281Z",
    "tags": []
   },
   "outputs": [],
   "source": [
    "# loading the dataset\n"
   ]
  }
 ],
 "metadata": {
  "kernelspec": {
   "display_name": "Python 3 (ipykernel)",
   "language": "python",
   "name": "python3"
  },
  "language_info": {
   "codemirror_mode": {
    "name": "ipython",
    "version": 3
   },
   "file_extension": ".py",
   "mimetype": "text/x-python",
   "name": "python",
   "nbconvert_exporter": "python",
   "pygments_lexer": "ipython3",
   "version": "3.10.5"
  }
 },
 "nbformat": 4,
 "nbformat_minor": 5
}
