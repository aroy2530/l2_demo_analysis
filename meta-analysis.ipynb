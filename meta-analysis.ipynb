{
 "cells": [
  {
   "cell_type": "markdown",
   "id": "6e538fc2",
   "metadata": {
    "created-datetime": "2022-08-09T01:02:15.578Z",
    "deps": [],
    "executions": 1,
    "id": "6e538fc2",
    "tags": []
   },
   "source": [
    "# Meta Analysis Notebook"
   ]
  },
  {
   "cell_type": "code",
   "execution_count": null,
   "id": "88150e55-c547-4240-a0d0-d180b5de892e",
   "metadata": {
    "created-datetime": "2022-07-26T18:39:20.573Z",
    "deps": [],
    "executions": 6,
    "id": "88150e55-c547-4240-a0d0-d180b5de892e",
    "keystrokes": 82,
    "modified-datetime": "2022-08-01T14:01:43.468Z",
    "tags": []
   },
   "outputs": [],
   "source": [
    "import json\n",
    "with open('meta-analysis.json') as fp:\n",
    "    data = json.load(fp)\n",
    "    \n",
    "def getCellData(versions, cellID, nbName): \n",
    "    for version in versions:\n",
    "        notebooks = data[\"commits\"][version]['notebooks']\n",
    "        for notebook in notebooks:\n",
    "            if (notebook['name'] == nbName):\n",
    "                cells = notebook['contents']['cells']\n",
    "                for cell in cells:\n",
    "                    if (cell['metadata']['id'] == cellID):\n",
    "                        print(cell)"
   ]
  },
  {
   "cell_type": "code",
   "execution_count": null,
   "id": "d2939226-73bb-4f1f-a646-66d90fbf6660",
   "metadata": {
    "created-datetime": "2022-08-09T01:02:56.522Z",
    "deps": [],
    "id": "d2939226-73bb-4f1f-a646-66d90fbf6660",
    "keystrokes": 1,
    "modified-datetime": "2022-08-09T01:02:56.560Z",
    "tags": []
   },
   "outputs": [],
   "source": [
    "versions = [\"888c2f3565a1a611074d5a5b44524d695259eeba\",\"d795df6fd12ffa1369fba110fd9860bda53e8840\"]\n",
    "cellid = \"ba4e7348-299b-4b52-a3c0-156852dd617e\"\n",
    "notebook = \"human_freedom_analysis.ipynb\"\n",
    "getCellData(versions, cellid, notebook)"
   ]
  },
  {
   "cell_type": "code",
   "execution_count": null,
   "id": "3e863fb4-be45-4de1-af1c-e111d2c08e23",
   "metadata": {
    "created-datetime": "2022-08-09T01:03:17.381Z",
    "deps": [],
    "id": "3e863fb4-be45-4de1-af1c-e111d2c08e23",
    "keystrokes": 1,
    "modified-datetime": "2022-08-09T01:03:17.429Z",
    "tags": []
   },
   "outputs": [],
   "source": [
    "versions = [\"f2903887715c27bf3086f10ea203cb6ea854674d\",\"888c2f3565a1a611074d5a5b44524d695259eeba\",\"d795df6fd12ffa1369fba110fd9860bda53e8840\"]\n",
    "cellid = \"9ab43455-6095-4d7e-8bd0-7aaeadb14405\"\n",
    "notebook = \"human_freedom_analysis.ipynb\"\n",
    "getCellData(versions, cellid, notebook)"
   ]
  }
 ],
 "metadata": {
  "kernelspec": {
   "display_name": "Python 3 (ipykernel)",
   "language": "python",
   "name": "python3"
  },
  "language_info": {
   "codemirror_mode": {
    "name": "ipython",
    "version": 3
   },
   "file_extension": ".py",
   "mimetype": "text/x-python",
   "name": "python",
   "nbconvert_exporter": "python",
   "pygments_lexer": "ipython3",
   "version": "3.10.5"
  },
  "vscode": {
   "interpreter": {
    "hash": "40d3a090f54c6569ab1632332b64b2c03c39dcf918b08424e98f38b5ae0af88f"
   }
  }
 },
 "nbformat": 4,
 "nbformat_minor": 5
}
