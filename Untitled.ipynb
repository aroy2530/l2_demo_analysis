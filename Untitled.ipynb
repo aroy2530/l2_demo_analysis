{
 "cells": [
  {
   "cell_type": "markdown",
   "id": "12e4b1a3-d5e8-4879-85eb-f95f5ab80864",
   "metadata": {
    "created-datetime": "2022-08-09T04:39:15.257Z",
    "deps": [],
    "executions": 1,
    "id": "016fa5a2-7bf0-4ce2-ba2d-bce09936901e",
    "tags": []
   },
   "source": [
    "## Analysis of the Human Freedom Index"
   ]
  }
 ],
 "metadata": {
  "kernelspec": {
   "display_name": "Python 3 (ipykernel)",
   "language": "python",
   "name": "python3"
  },
  "language_info": {
   "codemirror_mode": {
    "name": "ipython",
    "version": 3
   },
   "file_extension": ".py",
   "mimetype": "text/x-python",
   "name": "python",
   "nbconvert_exporter": "python",
   "pygments_lexer": "ipython3",
   "version": "3.10.5"
  }
 },
 "nbformat": 4,
 "nbformat_minor": 5
}
